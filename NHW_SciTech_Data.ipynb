{
 "cells": [
  {
   "cell_type": "markdown",
   "metadata": {
    "slideshow": {
     "slide_type": "slide"
    }
   },
   "source": [
    "# Data\n",
    "## A journey from a cluster of pulsars to the whole sky\n",
    "## And from megabytes to exabytes\n",
    "### Natasha Hurley-Walker\n",
    "### 20th March 2018"
   ]
  },
  {
   "cell_type": "markdown",
   "metadata": {
    "slideshow": {
     "slide_type": "slide"
    }
   },
   "source": [
    "<img src=media/NHW_AMI.jpg width=1024>\n",
    "#### Arcminute Microkelvin Imager, Cambridge, UK"
   ]
  },
  {
   "cell_type": "markdown",
   "metadata": {
    "slideshow": {
     "slide_type": "slide"
    }
   },
   "source": [
    "<img src=media/NHW_Beta_receiver.JPG width=600>\n",
    "#### Commissioning the Murchison Widefield Array, Murchison, WA"
   ]
  },
  {
   "cell_type": "markdown",
   "metadata": {
    "slideshow": {
     "slide_type": "slide"
    }
   },
   "source": [
    "<img src=media/NHW_MWA.JPG width=1024>\n",
    "#### Commissioning the Murchison Widefield Array, Murchison, WA"
   ]
  },
  {
   "cell_type": "markdown",
   "metadata": {
    "slideshow": {
     "slide_type": "slide"
    }
   },
   "source": [
    "<img src=media/NHW_TEDx.jpg width=1024>\n",
    "#### TEDx Perth 2016"
   ]
  },
  {
   "cell_type": "markdown",
   "metadata": {
    "slideshow": {
     "slide_type": "slide"
    }
   },
   "source": [
    "# How did I get to work on radio telescopes?"
   ]
  },
  {
   "cell_type": "markdown",
   "metadata": {
    "slideshow": {
     "slide_type": "fragment"
    }
   },
   "source": [
    "## It started with a summer project..."
   ]
  },
  {
   "cell_type": "markdown",
   "metadata": {
    "slideshow": {
     "slide_type": "slide"
    }
   },
   "source": [
    "<img src=media/JBO_Lovell.jpg width=1024>\n",
    "#### Lovell telescope, Jodrell Bank Observatory, UK"
   ]
  },
  {
   "cell_type": "markdown",
   "metadata": {
    "slideshow": {
     "slide_type": "slide"
    }
   },
   "source": [
    "<img src=media/Pulsar_Group-16-02-05.jpg width=1024>\n",
    "#### JBO Pulsar Group 2005"
   ]
  },
  {
   "cell_type": "markdown",
   "metadata": {
    "slideshow": {
     "slide_type": "slide"
    }
   },
   "source": [
    "<img src=media/Parkes.jpg width=1024>\n",
    "#### Parkes Radio Telescope, NSW"
   ]
  },
  {
   "cell_type": "markdown",
   "metadata": {
    "slideshow": {
     "slide_type": "slide"
    }
   },
   "source": [
    "<video controls loop=1 autoplay=1 src=media/\"lighthouse.m4v\" width=1024 />\n",
    "#### A rotating pulsating neutron star: a pulsar"
   ]
  },
  {
   "cell_type": "markdown",
   "metadata": {
    "slideshow": {
     "slide_type": "slide"
    }
   },
   "source": [
    "<img src=media/Globular_cluster_47_Tucanae.jpg width=500>\n",
    "#### Globular cluster 47 Tucanae"
   ]
  },
  {
   "cell_type": "markdown",
   "metadata": {
    "slideshow": {
     "slide_type": "slide"
    }
   },
   "source": [
    "<img src=media/DLT.jpg width=600>\n",
    "#### My first big data project"
   ]
  },
  {
   "cell_type": "code",
   "execution_count": 1,
   "metadata": {
    "scrolled": true,
    "slideshow": {
     "slide_type": "slide"
    }
   },
   "outputs": [],
   "source": [
    "import plotly.plotly as py\n",
    "import plotly.graph_objs as go\n",
    "# Might need to do this if no internet connection\n",
    "# py.offline.init_notebook_mode(connected=True)\n",
    "# py.offline.iplot\n",
    "\n",
    "# Create random data with numpy\n",
    "import numpy as np\n",
    "\n",
    "N = 500\n",
    "Amplitude = 0.2\n",
    "random_x = np.linspace(0, 1, N)\n",
    "random_y = Amplitude*np.random.randn(N)"
   ]
  },
  {
   "cell_type": "code",
   "execution_count": 2,
   "metadata": {
    "slideshow": {
     "slide_type": "slide"
    }
   },
   "outputs": [],
   "source": [
    "# Hardcode a signal\n",
    "\n",
    "random_y[50] += 0.5\n",
    "random_y[51] += 1.0\n",
    "random_y[52] += 0.5\n",
    "\n",
    "random_y[250] += 0.5\n",
    "random_y[251] += 1.0\n",
    "random_y[252] += 0.5\n",
    "\n",
    "random_y[450] += 0.5\n",
    "random_y[451] += 1.0\n",
    "random_y[452] += 0.5"
   ]
  },
  {
   "cell_type": "code",
   "execution_count": 3,
   "metadata": {
    "slideshow": {
     "slide_type": "slide"
    }
   },
   "outputs": [
    {
     "data": {
      "text/html": [
       "<iframe id=\"igraph\" scrolling=\"no\" style=\"border:none;\"seamless=\"seamless\" src=\"https://plot.ly/~nhurleywalker/54.embed\" height=\"500px\" width=\"1024px\"></iframe>"
      ],
      "text/plain": [
       "<plotly.tools.PlotlyDisplay object>"
      ]
     },
     "execution_count": 3,
     "metadata": {},
     "output_type": "execute_result"
    }
   ],
   "source": [
    "# Plot\n",
    "trace = go.Scatter(\n",
    "    x = random_x,\n",
    "    y = random_y\n",
    ")\n",
    "\n",
    "data = [trace]\n",
    "\n",
    "layout = dict(autosize=False,\n",
    "              width=1024,\n",
    "              height=500)\n",
    "\n",
    "py.iplot(dict(data=data, layout=layout), filename='basic-line')"
   ]
  },
  {
   "cell_type": "markdown",
   "metadata": {
    "slideshow": {
     "slide_type": "slide"
    }
   },
   "source": [
    "# Computers need to do the heavy lifting\n",
    "## In this case, split up the data by multiple time intervals\n",
    "## Stack them up\n",
    "## At the rotation period of the pulsar, all the pulses will align\n",
    "## A signal will pop out!"
   ]
  },
  {
   "cell_type": "markdown",
   "metadata": {
    "slideshow": {
     "slide_type": "skip"
    }
   },
   "source": [
    "<img src=media/pulses.jpg>"
   ]
  },
  {
   "cell_type": "markdown",
   "metadata": {
    "slideshow": {
     "slide_type": "slide"
    }
   },
   "source": [
    "<img src=media/Joy_Division.jpg width=400>"
   ]
  },
  {
   "cell_type": "markdown",
   "metadata": {
    "slideshow": {
     "slide_type": "slide"
    }
   },
   "source": [
    "# If a computer can do all the work, why do we still need astronomers?"
   ]
  },
  {
   "cell_type": "code",
   "execution_count": 4,
   "metadata": {
    "scrolled": true,
    "slideshow": {
     "slide_type": "slide"
    }
   },
   "outputs": [],
   "source": [
    "import plotly.plotly as py\n",
    "import plotly.graph_objs as go\n",
    "\n",
    "# Add data\n",
    "month = ['January', 'February', 'March', 'April', 'May', 'June', 'July',\n",
    "         'August', 'September', 'October', 'November', 'December']\n",
    "monthly_avg_temp = np.array([ 23.15,  29.95,  41.2 ,  45.1 ,  59.5 ,  65.75,  67.1 ,  67.45,\n",
    "        60.95,  51.7 ,  38.35,  22.6 ])\n",
    "\n",
    "# Convert Farenheight to Celsius\n",
    "def FtoC(F):\n",
    "    C = (F - 32) * (5./9.)\n",
    "    return C\n",
    "\n",
    "monthly_avg_temp = FtoC(monthly_avg_temp)"
   ]
  },
  {
   "cell_type": "code",
   "execution_count": 5,
   "metadata": {
    "slideshow": {
     "slide_type": "skip"
    }
   },
   "outputs": [],
   "source": [
    "# Create and style traces\n",
    "trace = go.Scatter(\n",
    "    x = month,\n",
    "    y = monthly_avg_temp,\n",
    "    name = 'Monthly average temperature',\n",
    "    line = dict(\n",
    "        color = ('rgb(205, 12, 24)'),\n",
    "        width = 4)\n",
    ")\n",
    "\n",
    "data = [trace]\n",
    "\n",
    "# Edit the layout\n",
    "layout = dict(title = 'Monthly average temperatures in New York',\n",
    "              xaxis = dict(title = 'Month'),\n",
    "              yaxis = dict(title = 'Temperature (C)'),\n",
    "              autosize=False,\n",
    "              width=1024,\n",
    "              height=500\n",
    "              )"
   ]
  },
  {
   "cell_type": "code",
   "execution_count": 6,
   "metadata": {
    "slideshow": {
     "slide_type": "slide"
    }
   },
   "outputs": [
    {
     "data": {
      "text/html": [
       "<iframe id=\"igraph\" scrolling=\"no\" style=\"border:none;\"seamless=\"seamless\" src=\"https://plot.ly/~nhurleywalker/56.embed\" height=\"500px\" width=\"1024px\"></iframe>"
      ],
      "text/plain": [
       "<plotly.tools.PlotlyDisplay object>"
      ]
     },
     "execution_count": 6,
     "metadata": {},
     "output_type": "execute_result"
    }
   ],
   "source": [
    "fig = dict(data=data, layout=layout)\n",
    "py.iplot(fig, filename='styled-line')"
   ]
  },
  {
   "cell_type": "markdown",
   "metadata": {
    "slideshow": {
     "slide_type": "slide"
    }
   },
   "source": [
    "## What can a computer tell us?"
   ]
  },
  {
   "cell_type": "code",
   "execution_count": 7,
   "metadata": {
    "slideshow": {
     "slide_type": "fragment"
    }
   },
   "outputs": [
    {
     "name": "stdout",
     "output_type": "stream",
     "text": [
      "8.74074074074\n"
     ]
    }
   ],
   "source": [
    "# The average monthly temperature\n",
    "print np.average(monthly_avg_temp)"
   ]
  },
  {
   "cell_type": "code",
   "execution_count": 8,
   "metadata": {
    "slideshow": {
     "slide_type": "fragment"
    }
   },
   "outputs": [
    {
     "name": "stdout",
     "output_type": "stream",
     "text": [
      "8.93970093143\n"
     ]
    }
   ],
   "source": [
    "# The standard deviation of temperatures\n",
    "print np.std(monthly_avg_temp)"
   ]
  },
  {
   "cell_type": "code",
   "execution_count": 9,
   "metadata": {
    "slideshow": {
     "slide_type": "fragment"
    }
   },
   "outputs": [
    {
     "name": "stdout",
     "output_type": "stream",
     "text": [
      "19.6944444444\n"
     ]
    }
   ],
   "source": [
    "# The hottest month\n",
    "print np.max(monthly_avg_temp)"
   ]
  },
  {
   "cell_type": "code",
   "execution_count": 10,
   "metadata": {
    "slideshow": {
     "slide_type": "fragment"
    }
   },
   "outputs": [
    {
     "name": "stdout",
     "output_type": "stream",
     "text": [
      "-5.22222222222\n"
     ]
    }
   ],
   "source": [
    "# The coldest month\n",
    "print np.min(monthly_avg_temp)"
   ]
  },
  {
   "cell_type": "markdown",
   "metadata": {
    "slideshow": {
     "slide_type": "fragment"
    }
   },
   "source": [
    "## Lies, damned lies, and statistics"
   ]
  },
  {
   "cell_type": "code",
   "execution_count": 11,
   "metadata": {
    "slideshow": {
     "slide_type": "skip"
    }
   },
   "outputs": [],
   "source": [
    "fig2 = py.get_figure(\"https://plot.ly/~nhurleywalker/9/\")"
   ]
  },
  {
   "cell_type": "code",
   "execution_count": 12,
   "metadata": {
    "slideshow": {
     "slide_type": "skip"
    }
   },
   "outputs": [],
   "source": [
    "fig2.layout.autosize=False\n",
    "fig2.layout.width=1024\n",
    "fig2.layout.height=800"
   ]
  },
  {
   "cell_type": "code",
   "execution_count": 13,
   "metadata": {
    "scrolled": true,
    "slideshow": {
     "slide_type": "slide"
    }
   },
   "outputs": [
    {
     "data": {
      "text/html": [
       "<iframe id=\"igraph\" scrolling=\"no\" style=\"border:none;\"seamless=\"seamless\" src=\"https://plot.ly/~nhurleywalker/70.embed\" height=\"800px\" width=\"1024px\"></iframe>"
      ],
      "text/plain": [
       "<plotly.tools.PlotlyDisplay object>"
      ]
     },
     "execution_count": 13,
     "metadata": {},
     "output_type": "execute_result"
    }
   ],
   "source": [
    "py.iplot(fig2)"
   ]
  },
  {
   "cell_type": "markdown",
   "metadata": {
    "slideshow": {
     "slide_type": "fragment"
    }
   },
   "source": [
    "#### Computers can't \"see\" the difference!"
   ]
  },
  {
   "cell_type": "markdown",
   "metadata": {
    "slideshow": {
     "slide_type": "slide"
    }
   },
   "source": [
    "# A human view\n",
    "<img src=media/Search_Results.png width=1024>"
   ]
  },
  {
   "cell_type": "code",
   "execution_count": 14,
   "metadata": {
    "scrolled": true,
    "slideshow": {
     "slide_type": "skip"
    }
   },
   "outputs": [],
   "source": [
    "trace1 = go.Bar(\n",
    "    x=[\"Masters\", \"PhD\", \"MWACS\", \"GLEAM\", \"GLEAM-X\"],\n",
    "    y=[3.5, 2.6, 5.0, 1000.0, 10000.0],\n",
    "    name = \"Raw data\"\n",
    ")\n",
    "trace2 = go.Bar(\n",
    "    x=[\"Masters\", \"PhD\", \"MWACS\", \"GLEAM\", \"GLEAM-X\"],\n",
    "    y=[.000100, .000050, 0.001000, 0.070000, 1.000000],\n",
    "    name = \"Final data\"\n",
    ")\n",
    "\n",
    "\n",
    "data1 = [trace1, trace2]\n",
    "\n",
    "# Edit the layout\n",
    "layout1 = go.Layout(\n",
    "    barmode='grouped',\n",
    "    title = 'Data used over my professional career',\n",
    "              xaxis = dict(title = 'Project'),\n",
    "              yaxis = dict(title = 'Data size (TB)', type='log'),\n",
    "              autosize=False,\n",
    "              width=1000,\n",
    "              height=750\n",
    ")\n"
   ]
  },
  {
   "cell_type": "code",
   "execution_count": 15,
   "metadata": {
    "slideshow": {
     "slide_type": "slide"
    }
   },
   "outputs": [
    {
     "data": {
      "text/html": [
       "<iframe id=\"igraph\" scrolling=\"no\" style=\"border:none;\"seamless=\"seamless\" src=\"https://plot.ly/~nhurleywalker/72.embed\" height=\"750px\" width=\"1000px\"></iframe>"
      ],
      "text/plain": [
       "<plotly.tools.PlotlyDisplay object>"
      ]
     },
     "execution_count": 15,
     "metadata": {},
     "output_type": "execute_result"
    }
   ],
   "source": [
    "fig1 = go.Figure(data=data1, layout=layout1)\n",
    "py.iplot(fig1)"
   ]
  },
  {
   "cell_type": "markdown",
   "metadata": {
    "slideshow": {
     "slide_type": "slide"
    }
   },
   "source": [
    "# A flood of data"
   ]
  },
  {
   "cell_type": "markdown",
   "metadata": {
    "slideshow": {
     "slide_type": "fragment"
    }
   },
   "source": [
    "# What do we do??"
   ]
  },
  {
   "cell_type": "markdown",
   "metadata": {
    "slideshow": {
     "slide_type": "fragment"
    }
   },
   "source": [
    "## Citizen science..."
   ]
  },
  {
   "cell_type": "code",
   "execution_count": 16,
   "metadata": {
    "scrolled": true,
    "slideshow": {
     "slide_type": "slide"
    }
   },
   "outputs": [
    {
     "data": {
      "text/html": [
       "\n",
       "        <iframe\n",
       "            width=\"1024\"\n",
       "            height=\"600\"\n",
       "            src=\"http://gleamoscope.icrar.org/gleamoscope/trunk/src/?w=2.2&l=355.5&b=-1&z=3\"\n",
       "            frameborder=\"0\"\n",
       "            allowfullscreen\n",
       "        ></iframe>\n",
       "        "
      ],
      "text/plain": [
       "<IPython.lib.display.IFrame at 0x7fccea218e90>"
      ]
     },
     "execution_count": 16,
     "metadata": {},
     "output_type": "execute_result"
    }
   ],
   "source": [
    "from IPython.display import IFrame\n",
    "IFrame(\"http://gleamoscope.icrar.org/gleamoscope/trunk/src/?w=2.2&l=355.5&b=-1&z=3\",1024,600)"
   ]
  },
  {
   "cell_type": "markdown",
   "metadata": {
    "slideshow": {
     "slide_type": "slide"
    }
   },
   "source": [
    "## Machine learning...\n",
    "<img src=media/ML.jpeg height=400>"
   ]
  },
  {
   "cell_type": "markdown",
   "metadata": {
    "slideshow": {
     "slide_type": "slide"
    }
   },
   "source": [
    "### More this\n",
    "<img src=media/robots_at_desks.jpg width=1024>"
   ]
  },
  {
   "cell_type": "markdown",
   "metadata": {
    "slideshow": {
     "slide_type": "slide"
    }
   },
   "source": [
    "### Less this\n",
    "<img src=media/phd_brain.gif width=1024>"
   ]
  },
  {
   "cell_type": "markdown",
   "metadata": {
    "slideshow": {
     "slide_type": "slide"
    }
   },
   "source": [
    "# Questions?\n",
    "\n",
    "## Plus: Download the app from the Google Play store: search for \"GLEAM\". Or:\n",
    "<img src=media/QR_GLEAM.png width=150>\n",
    "### Plus plus: Watch the TED talk!\n",
    "<a href=\"https://www.ted.com/talks/natasha_hurley_walker_how_radio_telescopes_show_us_unseen_galaxies\">https://www.ted.com/talks/<br>natasha_hurley_walker_how_radio_telescopes_show_us_unseen_galaxies</a>\n",
    "#### Plus plus plus: Download this talk and play with the data:\n",
    "<a href=\"https://github.com/nhurleywalker/2018-03-20-SciTech-Data\">https://github.com/nhurleywalker/2018-03-20-SciTech-Data</a>\n",
    "\n"
   ]
  }
 ],
 "metadata": {
  "celltoolbar": "Slideshow",
  "kernelspec": {
   "display_name": "Python 2",
   "language": "python",
   "name": "python2"
  },
  "language_info": {
   "codemirror_mode": {
    "name": "ipython",
    "version": 2
   },
   "file_extension": ".py",
   "mimetype": "text/x-python",
   "name": "python",
   "nbconvert_exporter": "python",
   "pygments_lexer": "ipython2",
   "version": "2.7.12"
  }
 },
 "nbformat": 4,
 "nbformat_minor": 2
}
